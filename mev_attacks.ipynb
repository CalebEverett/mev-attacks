{
 "cells": [
  {
   "cell_type": "markdown",
   "metadata": {},
   "source": [
    "# MEV Attacks"
   ]
  },
  {
   "cell_type": "markdown",
   "metadata": {},
   "source": [
    "## Imports"
   ]
  },
  {
   "cell_type": "code",
   "execution_count": 1,
   "metadata": {},
   "outputs": [],
   "source": [
    "import pandas as pd\n",
    "import plotly.io as pio\n",
    "from sqlalchemy import create_engine\n",
    "\n",
    "from mev_attacks import utils\n",
    "import requests\n",
    "\n",
    "pd.options.plotting.backend = \"plotly\"\n",
    "pio.templates.default = \"none\""
   ]
  },
  {
   "cell_type": "code",
   "execution_count": 2,
   "metadata": {},
   "outputs": [],
   "source": [
    "DB_AVAIL = True\n",
    "if DB_AVAIL:\n",
    "    user = \"postgres\"\n",
    "    password=\"password\"\n",
    "    host = \"localhost\"\n",
    "    engine   = create_engine(f'postgresql+psycopg2://{user}:{password}@{host}/mev_inspect', pool_recycle=3600)\n",
    "    conn = engine.connect();"
   ]
  },
  {
   "cell_type": "markdown",
   "metadata": {},
   "source": [
    "## Sandwich Attack"
   ]
  },
  {
   "cell_type": "markdown",
   "metadata": {},
   "source": [
    "### Description"
   ]
  },
  {
   "cell_type": "markdown",
   "metadata": {},
   "source": [
    "A sandwich attack involves executing transactions immediately before and immediately after a swap transaction on a decentralized exchange that sets prices according to a known formula. Many of the largest decentralized exchanges utilize a constant product formula such that the product of the supply of each token in a pool must remain constant.\n",
    "\n",
    "For example, if there were a pool of a pair of tokens A and B each with an initial supply of 10, the product would need to remain constant at 100. To determine the number of B tokens that would be received for 1 A token, you would take 100 divided by 11, the new supply of A, to determine that after the transaction there needs to be 9.090909 B tokens in order to keep the product of the supplies constant at 100. Therefore, you could swap 1 A token for 0.90909 B tokens.\n",
    "\n",
    "|        | A         | B       | k / price    |\n",
    "| ------ | -------: | -------: |------------: |\n",
    "| $t_0$  | 10.0000  | 10.0000  |    100.0000  |\n",
    "| $user$ |  1.0000  | -0.9091  |      0.9091  |\n",
    "| $t_3$  | 11.0000  |  9.0909  |    100.0000  |\n",
    "\n",
    "Since transactions are written together in blocks, the final amount received for an individual transaction depends on the other transactions in the block that get executed before it. In order to protect users from unlimited exposure to changes in their received price, one of the parameters they specify is the amount of slippage they will suffer before their transaction will simply not be executed.\n",
    "\n",
    "The sandwich attack will execute transactions on either side of a swap transaction to capture the maximum allowable slippage. The default slippage for Uniswap is 0.5%, but it can be set to anything. To illustrate the nature of the attack, assume that the allowable slippage in the above transaction was specified to be 10%, meaning that as few as 0.8181 B tokens could be received for 1 A token and the transaction would still be executed.\n",
    "\n",
    "To execute an attack to capture the maximum possible slippage of 0.0909 a searcher would first determine what transaction they need to execute such that the supply of A and B tokens in the pool when the user’s transaction is executed results in the user receiving 0.8181 B tokens. Then after the user’s transaction, the searcher executes another transaction in the opposite direction that leaves the supply in the pools where it would have been without the attack, netting them the slippage at the user’s expense.\n",
    "\n",
    "$$\n",
    "\\begin{align*}\n",
    "Let A_1 &= \\text{the supply of token A after the attacker's initial transaction} \\\\\n",
    "Let B_1 &= \\text{the supply of token B after the attacker's initial transaction} \\\\\n",
    "\\end{align*}\n",
    "$$\n",
    "\n",
    "and in order for $A * B = 100$ to be true,\n",
    "\n",
    "$$\n",
    "\\begin{align*}\n",
    "(A_1 + 1.0000) * (B_1 - 0.8181) &= 100 \\\\\n",
    "(A_1 + 1.0000) * (\\frac{100}{A_1} - 0.8181) &= 100 \\\\\n",
    "A_1 = 10.5667\n",
    "\\end{align*}\n",
    "$$\n",
    "\n",
    "which means the swap the searcher executes initially is for 0.5363 B tokens in exchange for 0.5667 A tokens. After the user's transaction the searcher swaps their 0.5667 A tokens for 0.4454 B tokens to net 0.0909 B tokens from the sandwich attack.\n",
    "\n",
    "|        | A         | B       | k / price    |\n",
    "| ------ | -------: | -------: |------------: |\n",
    "| $t_0$  | 10.0000  | 10.0000  |    100.0000  |\n",
    "| $pre$  |  0.5667  | -0.5363  |      0.9463  |\n",
    "| $t_1$  | 10.5667  |  9.4637  |    100.0000  |\n",
    "| $user$ |  1.0000  | -0.8182  |     -0.8182  |\n",
    "| $t_2$  | 11.5667  |  8.6455  |    100.0000  |\n",
    "| $post$ | -0.5667  |  0.4454  |      0.7860  |\n",
    "| $t_3$  | 11.0000  |  9.0909  |    100.0000  |"
   ]
  },
  {
   "cell_type": "markdown",
   "metadata": {},
   "source": [
    "### Examples"
   ]
  },
  {
   "cell_type": "code",
   "execution_count": 7,
   "metadata": {},
   "outputs": [],
   "source": [
    "if DB_AVAIL:\n",
    "    df_sandwich = pd.read_sql(\"SELECT * from sandwiches\", conn)\n",
    "    df_sandwich.to_csv(\"data/sandwiches.csv\", index=False)\n",
    "else:\n",
    "    df_sandwich = pd.read_csv(\"data/sandwiches.csv\")"
   ]
  },
  {
   "cell_type": "code",
   "execution_count": 12,
   "metadata": {},
   "outputs": [
    {
     "data": {
      "text/html": [
       "<div>\n",
       "<style scoped>\n",
       "    .dataframe tbody tr th:only-of-type {\n",
       "        vertical-align: middle;\n",
       "    }\n",
       "\n",
       "    .dataframe tbody tr th {\n",
       "        vertical-align: top;\n",
       "    }\n",
       "\n",
       "    .dataframe thead th {\n",
       "        text-align: right;\n",
       "    }\n",
       "</style>\n",
       "<table border=\"1\" class=\"dataframe\">\n",
       "  <thead>\n",
       "    <tr style=\"text-align: right;\">\n",
       "      <th></th>\n",
       "      <th>id</th>\n",
       "      <th>created_at</th>\n",
       "      <th>block_number</th>\n",
       "      <th>sandwicher_address</th>\n",
       "      <th>frontrun_swap_transaction_hash</th>\n",
       "      <th>frontrun_swap_trace_address</th>\n",
       "      <th>backrun_swap_transaction_hash</th>\n",
       "      <th>backrun_swap_trace_address</th>\n",
       "    </tr>\n",
       "  </thead>\n",
       "  <tbody>\n",
       "    <tr>\n",
       "      <th>0</th>\n",
       "      <td>783a005e-b3fa-401c-9a38-bfe13e701346</td>\n",
       "      <td>2022-01-13 21:34:44.042851</td>\n",
       "      <td>12634570.0</td>\n",
       "      <td>0x00000000003b3cc22af3ae1eac0440bcee416b40</td>\n",
       "      <td>0xa7b6b85b4e3055a27b0bb64b611eb42ca24b29d42ec4...</td>\n",
       "      <td>[1]</td>\n",
       "      <td>0xa9c8dec6ca95e7df25102b708b5c97dad3b8c717e6a6...</td>\n",
       "      <td>[1]</td>\n",
       "    </tr>\n",
       "    <tr>\n",
       "      <th>1</th>\n",
       "      <td>4b83d760-b597-457a-84a6-ca017a8ea444</td>\n",
       "      <td>2022-01-13 21:34:44.042851</td>\n",
       "      <td>12634575.0</td>\n",
       "      <td>0x000000000035b5e5ad9019092c665357240f594e</td>\n",
       "      <td>0xac8fe2ca3f4b54e52c2c49bdd01dca4f2a04479662e0...</td>\n",
       "      <td>[1]</td>\n",
       "      <td>0xc8c47e551377a41594c3927d39049cd899e560a0c6b5...</td>\n",
       "      <td>[1]</td>\n",
       "    </tr>\n",
       "    <tr>\n",
       "      <th>2</th>\n",
       "      <td>9929faff-c29a-41ff-a08d-3e8868f1bcb3</td>\n",
       "      <td>2022-01-13 21:34:44.042851</td>\n",
       "      <td>12634579.0</td>\n",
       "      <td>0x83f893cc6610bfc695f8e2d4cd0e6d3033dec77e</td>\n",
       "      <td>0x4317ab2ba7b140e51689b3670278c52aa2520ab18d7d...</td>\n",
       "      <td>[1]</td>\n",
       "      <td>0x9677755d9072e5c35ca8f4832ff013252ba34756ce58...</td>\n",
       "      <td>[1]</td>\n",
       "    </tr>\n",
       "    <tr>\n",
       "      <th>3</th>\n",
       "      <td>28ade08a-f5f3-4554-91ad-d4a550bc14c7</td>\n",
       "      <td>2022-01-13 21:34:44.417610</td>\n",
       "      <td>12634558.0</td>\n",
       "      <td>0x00000000b7ca7e12dcc72290d1fe47b2ef14c607</td>\n",
       "      <td>0xe71f571da7cd57d5c27b4124451357ccb51955346fd0...</td>\n",
       "      <td>[1]</td>\n",
       "      <td>0x0c01e67324cf615fedb85451e1c13149714c49b0a515...</td>\n",
       "      <td>[1]</td>\n",
       "    </tr>\n",
       "    <tr>\n",
       "      <th>4</th>\n",
       "      <td>fccf0e9a-8745-43fa-801f-e3551e824ff0</td>\n",
       "      <td>2022-01-13 21:34:44.417610</td>\n",
       "      <td>12634558.0</td>\n",
       "      <td>0x1d6e8bac6ea3730825bde4b005ed7b2b39a2932d</td>\n",
       "      <td>0x919f5806a5104db1d91f4bd54c44bd9553c443e58700...</td>\n",
       "      <td>[2]</td>\n",
       "      <td>0x3db6116c5423c88ff6e29065f55bef0be241a0c27e0d...</td>\n",
       "      <td>[4]</td>\n",
       "    </tr>\n",
       "  </tbody>\n",
       "</table>\n",
       "</div>"
      ],
      "text/plain": [
       "                                     id                 created_at  \\\n",
       "0  783a005e-b3fa-401c-9a38-bfe13e701346 2022-01-13 21:34:44.042851   \n",
       "1  4b83d760-b597-457a-84a6-ca017a8ea444 2022-01-13 21:34:44.042851   \n",
       "2  9929faff-c29a-41ff-a08d-3e8868f1bcb3 2022-01-13 21:34:44.042851   \n",
       "3  28ade08a-f5f3-4554-91ad-d4a550bc14c7 2022-01-13 21:34:44.417610   \n",
       "4  fccf0e9a-8745-43fa-801f-e3551e824ff0 2022-01-13 21:34:44.417610   \n",
       "\n",
       "   block_number                          sandwicher_address  \\\n",
       "0    12634570.0  0x00000000003b3cc22af3ae1eac0440bcee416b40   \n",
       "1    12634575.0  0x000000000035b5e5ad9019092c665357240f594e   \n",
       "2    12634579.0  0x83f893cc6610bfc695f8e2d4cd0e6d3033dec77e   \n",
       "3    12634558.0  0x00000000b7ca7e12dcc72290d1fe47b2ef14c607   \n",
       "4    12634558.0  0x1d6e8bac6ea3730825bde4b005ed7b2b39a2932d   \n",
       "\n",
       "                      frontrun_swap_transaction_hash  \\\n",
       "0  0xa7b6b85b4e3055a27b0bb64b611eb42ca24b29d42ec4...   \n",
       "1  0xac8fe2ca3f4b54e52c2c49bdd01dca4f2a04479662e0...   \n",
       "2  0x4317ab2ba7b140e51689b3670278c52aa2520ab18d7d...   \n",
       "3  0xe71f571da7cd57d5c27b4124451357ccb51955346fd0...   \n",
       "4  0x919f5806a5104db1d91f4bd54c44bd9553c443e58700...   \n",
       "\n",
       "  frontrun_swap_trace_address  \\\n",
       "0                         [1]   \n",
       "1                         [1]   \n",
       "2                         [1]   \n",
       "3                         [1]   \n",
       "4                         [2]   \n",
       "\n",
       "                       backrun_swap_transaction_hash  \\\n",
       "0  0xa9c8dec6ca95e7df25102b708b5c97dad3b8c717e6a6...   \n",
       "1  0xc8c47e551377a41594c3927d39049cd899e560a0c6b5...   \n",
       "2  0x9677755d9072e5c35ca8f4832ff013252ba34756ce58...   \n",
       "3  0x0c01e67324cf615fedb85451e1c13149714c49b0a515...   \n",
       "4  0x3db6116c5423c88ff6e29065f55bef0be241a0c27e0d...   \n",
       "\n",
       "  backrun_swap_trace_address  \n",
       "0                        [1]  \n",
       "1                        [1]  \n",
       "2                        [1]  \n",
       "3                        [1]  \n",
       "4                        [4]  "
      ]
     },
     "execution_count": 12,
     "metadata": {},
     "output_type": "execute_result"
    }
   ],
   "source": [
    "df_sandwich.head()"
   ]
  },
  {
   "cell_type": "code",
   "execution_count": 20,
   "metadata": {},
   "outputs": [
    {
     "name": "stdout",
     "output_type": "stream",
     "text": [
      "https://etherscan.io/tx/0xa7b6b85b4e3055a27b0bb64b611eb42ca24b29d42ec42ddf7fc4f880bc3def16\n",
      "https://etherscan.io/tx/0xa9c8dec6ca95e7df25102b708b5c97dad3b8c717e6a6b2d34e39e0d1bf7c64b3\n"
     ]
    }
   ],
   "source": [
    "print(f\"https://etherscan.io/tx/{df_sandwich.iloc[0].frontrun_swap_transaction_hash}\")\n",
    "print(f\"https://etherscan.io/tx/{df_sandwich.iloc[0].backrun_swap_transaction_hash}\")"
   ]
  },
  {
   "cell_type": "markdown",
   "metadata": {},
   "source": [
    "The front run transaction was to swap 87.0484 WETH for 416,650.9839 KEEP and the back run was to swap the 416,650.9839 KEEP back for 88.3490 WETH, for a gross profit of 1.2265 WETH."
   ]
  }
 ],
 "metadata": {
  "interpreter": {
   "hash": "c72c59d9d90ea8874215208c071488bc1c6002e7a8a508429037f9d616b590c0"
  },
  "kernelspec": {
   "display_name": "Python 3.8.5 64-bit ('accumulation_opportunity-3KktX0-n': pipenv)",
   "language": "python",
   "name": "python3"
  },
  "language_info": {
   "codemirror_mode": {
    "name": "ipython",
    "version": 3
   },
   "file_extension": ".py",
   "mimetype": "text/x-python",
   "name": "python",
   "nbconvert_exporter": "python",
   "pygments_lexer": "ipython3",
   "version": "3.8.10"
  },
  "orig_nbformat": 2
 },
 "nbformat": 4,
 "nbformat_minor": 2
}
